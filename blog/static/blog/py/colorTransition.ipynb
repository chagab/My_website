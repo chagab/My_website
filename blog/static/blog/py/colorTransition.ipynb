{
 "cells": [
  {
   "cell_type": "code",
   "execution_count": 6,
   "metadata": {},
   "outputs": [
    {
     "data": {
      "text/plain": [
       "<contextlib.ExitStack at 0x1cfa6b9ffd0>"
      ]
     },
     "execution_count": 6,
     "metadata": {},
     "output_type": "execute_result"
    }
   ],
   "source": [
    "import json\n",
    "import numpy as np\n",
    "import matplotlib\n",
    "import matplotlib.pyplot as plt\n",
    "from scipy.interpolate import InterpolatedUnivariateSpline\n",
    "\n",
    "matplotlib.use('Qt5Agg')\n",
    "plt.ion()"
   ]
  },
  {
   "cell_type": "code",
   "execution_count": 7,
   "metadata": {},
   "outputs": [],
   "source": [
    "def interpolateGradient(p, returnData=True):\n",
    "    r = np.array([x for x, y, z in p])\n",
    "    g = np.array([y for x, y, z in p])\n",
    "    b = np.array([z for x, y, z in p])\n",
    "\n",
    "    n = len(r)\n",
    "    t = np.linspace(0, 255, n)\n",
    "    ti = np.linspace(0, 255, 50)\n",
    "\n",
    "    ius_r = InterpolatedUnivariateSpline(t, r)\n",
    "    ri = ius_r(ti)\n",
    "\n",
    "    ius_g = InterpolatedUnivariateSpline(t, g)\n",
    "    gi = ius_g(ti)\n",
    "\n",
    "    ius_b = InterpolatedUnivariateSpline(t, b)\n",
    "    bi = ius_b(ti)\n",
    "\n",
    "    if returnData:\n",
    "        toReturn = ri, gi, bi, r, g, b\n",
    "    else:\n",
    "        toReturn = ri, gi, bi\n",
    "    return toReturn"
   ]
  },
  {
   "cell_type": "code",
   "execution_count": 8,
   "metadata": {},
   "outputs": [],
   "source": [
    "# p1 = np.array([\n",
    "#     (255, 255, 255),\n",
    "#     (253, 219, 158),\n",
    "#     (254, 187, 142),\n",
    "#     (254, 151, 142),\n",
    "#     (220, 122, 145),\n",
    "#     (142, 88, 138),\n",
    "#     (57, 62, 117),\n",
    "#     (0, 0, 0)\n",
    "# ])\n",
    "\n",
    "# p1 = np.array([\n",
    "#     (55, 55, 55),\n",
    "#     (34, 42, 79),\n",
    "#     (65, 65, 99),\n",
    "#     (99, 78, 119),\n",
    "#     (147, 76, 120),\n",
    "#     (184, 75, 114),\n",
    "#     (229, 106, 111),\n",
    "#     (209, 107, 102),\n",
    "#     (227, 139, 117),\n",
    "#     (238, 156, 106),\n",
    "#     (249, 166, 100),\n",
    "#     (253, 187, 93),\n",
    "#     (254, 219, 99),\n",
    "#     (255, 229, 124),\n",
    "#     (242, 235, 155),\n",
    "#     (255, 245, 218),\n",
    "#     (200, 200, 200),\n",
    "# ])\n",
    "\n",
    "p1 = np.array([\n",
    "    (40, 40, 40),\n",
    "    (100, 100, 100),\n",
    "    (150, 150, 150),\n",
    "    (200, 200, 200),\n",
    "])\n",
    "\n",
    "\n",
    "p2 = np.array([(255 - r, 255 - g, 255 - b) for r, g, b in p1])"
   ]
  },
  {
   "cell_type": "code",
   "execution_count": 9,
   "metadata": {},
   "outputs": [],
   "source": [
    "ri1, gi1, bi1, r1, g1, b1 = interpolateGradient(p1)\n",
    "ri2, gi2, bi2, r2, g2, b2 = interpolateGradient(p2)\n",
    "\n",
    "R = 255\n",
    "\n",
    "plt.close('all')\n",
    "ax = plt.figure().add_subplot(projection='3d')\n",
    "ax.scatter(r1, g1, b1, c='b')\n",
    "ax.scatter(r2, g2, b2, c='r')\n",
    "ax.plot(ri1, gi1, bi1, c='b')\n",
    "ax.plot(ri2, gi2, bi2, c='r')\n",
    "ax.set_xlim(0, R)\n",
    "ax.set_ylim(0, R)\n",
    "ax.set_zlim(0, R)\n",
    "plt.xlabel('r')\n",
    "plt.ylabel('g')\n",
    "ax.set_zlabel('b')\n",
    "plt.axis('equal')\n",
    "plt.show()\n",
    "\n",
    "with open(\"colorTransition.json\", \"w\") as gradient:\n",
    "    json.dump({\n",
    "        \"p1\": {\n",
    "            \"r\": ri1.tolist(),\n",
    "            \"g\": gi1.tolist(),\n",
    "            \"b\": bi1.tolist(),\n",
    "        },\n",
    "        \"p2\": {\n",
    "            \"r\": ri2.tolist(),\n",
    "            \"g\": gi2.tolist(),\n",
    "            \"b\": bi2.tolist(),\n",
    "        }\n",
    "    }, gradient)"
   ]
  }
 ],
 "metadata": {
  "kernelspec": {
   "display_name": "datascience",
   "language": "python",
   "name": "python3"
  },
  "language_info": {
   "codemirror_mode": {
    "name": "ipython",
    "version": 3
   },
   "file_extension": ".py",
   "mimetype": "text/x-python",
   "name": "python",
   "nbconvert_exporter": "python",
   "pygments_lexer": "ipython3",
   "version": "3.9.16"
  }
 },
 "nbformat": 4,
 "nbformat_minor": 2
}
